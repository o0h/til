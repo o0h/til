{
 "cells": [
  {
   "cell_type": "heading",
   "metadata": {},
   "level": 3,
   "source": [
    "Pandas.merge()で結合 / `on`でキーとなるカラムを使うケース"
   ]
  },
  {
   "cell_type": "markdown",
   "metadata": {},
   "source": [
    "`on = 結合条件とする列名(外部キー)` で結合OK。\n",
    "```sql\n",
    "SELECT * FROM `part` INNER JOIN `bio` ON `part`.`name` = `bio`.`name`\n",
    "```\n",
    "なイメージ"
   ]
  },
  {
   "cell_type": "code",
   "execution_count": 3,
   "metadata": {
    "collapsed": true
   },
   "outputs": [
    {
     "data": {
      "text/html": [
       "<div>\n",
       "<table border=\"1\" class=\"dataframe\">\n",
       "  <thead>\n",
       "    <tr style=\"text-align: right;\">\n",
       "      <th></th>\n",
       "      <th>name</th>\n",
       "      <th>part</th>\n",
       "      <th>pref</th>\n",
       "    </tr>\n",
       "  </thead>\n",
       "  <tbody>\n",
       "    <tr>\n",
       "      <th>0</th>\n",
       "      <td>YUKI</td>\n",
       "      <td>Vo</td>\n",
       "      <td>Hokkaido</td>\n",
       "    </tr>\n",
       "    <tr>\n",
       "      <th>1</th>\n",
       "      <td>TAKUYA</td>\n",
       "      <td>Gt</td>\n",
       "      <td>Kyoto</td>\n",
       "    </tr>\n",
       "    <tr>\n",
       "      <th>2</th>\n",
       "      <td>ONDA</td>\n",
       "      <td>Ba</td>\n",
       "      <td>Hyogo</td>\n",
       "    </tr>\n",
       "    <tr>\n",
       "      <th>3</th>\n",
       "      <td>KOUHTA</td>\n",
       "      <td>Dr</td>\n",
       "      <td>Kanagawa</td>\n",
       "    </tr>\n",
       "  </tbody>\n",
       "</table>\n",
       "</div>"
      ],
      "text/plain": [
       "<div>\n",
       "<table border=\"1\" class=\"dataframe\">\n",
       "  <thead>\n",
       "    <tr style=\"text-align: right;\">\n",
       "      <th></th>\n",
       "      <th>name</th>\n",
       "      <th>part</th>\n",
       "      <th>pref</th>\n",
       "    </tr>\n",
       "  </thead>\n",
       "  <tbody>\n",
       "    <tr>\n",
       "      <th>0</th>\n",
       "      <td>YUKI</td>\n",
       "      <td>Vo</td>\n",
       "      <td>Hokkaido</td>\n",
       "    </tr>\n",
       "    <tr>\n",
       "      <th>1</th>\n",
       "      <td>TAKUYA</td>\n",
       "      <td>Gt</td>\n",
       "      <td>Kyoto</td>\n",
       "    </tr>\n",
       "    <tr>\n",
       "      <th>2</th>\n",
       "      <td>ONDA</td>\n",
       "      <td>Ba</td>\n",
       "      <td>Hyogo</td>\n",
       "    </tr>\n",
       "    <tr>\n",
       "      <th>3</th>\n",
       "      <td>KOUHTA</td>\n",
       "      <td>Dr</td>\n",
       "      <td>Kanagawa</td>\n",
       "    </tr>\n",
       "  </tbody>\n",
       "</table>\n",
       "</div>"
      ]
     },
     "execution_count": 3,
     "metadata": {},
     "output_type": "execute_result"
    }
   ],
   "source": [
    "import pandas as pd\n",
    "\n",
    "part = pd.DataFrame([\n",
    "    ['YUKI', 'Vo'],\n",
    "    ['TAKUYA', 'Gt'],\n",
    "    ['ONDA', 'Ba'],\n",
    "    ['KOUHTA', 'Dr'],\n",
    "],\n",
    "    columns=['name', 'part']\n",
    ")\n",
    "\n",
    "bio = pd.DataFrame([\n",
    "    ['YUKI', 'Hokkaido'],\n",
    "    ['KOUHTA', 'Kanagawa'],\n",
    "    ['ONDA', 'Hyogo'],\n",
    "    ['TAKUYA', 'Kyoto'],\n",
    "],\n",
    "    columns=['name', 'pref']\n",
    ")\n",
    "\n",
    "pd.merge(part, bio, on='name')\n"
   ]
  }
 ],
 "metadata": {
  "kernelspec": {
   "display_name": "Python 2",
   "language": "python",
   "name": "python2"
  },
  "language_info": {
   "codemirror_mode": {
    "name": "ipython",
    "version": 2
   },
   "file_extension": ".py",
   "mimetype": "text/x-python",
   "name": "python",
   "nbconvert_exporter": "python",
   "pygments_lexer": "ipython2",
   "version": "2.7.6"
  }
 },
 "nbformat": 4,
 "nbformat_minor": 0
}
